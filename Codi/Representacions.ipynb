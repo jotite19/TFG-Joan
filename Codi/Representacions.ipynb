{
 "cells": [
  {
   "cell_type": "code",
   "execution_count": null,
   "id": "a2195f82",
   "metadata": {},
   "outputs": [],
   "source": [
    "class ASEAtomsData(BaseAtomsData):\n",
    "    \n",
    "    def __init__(\n",
    "        self,\n",
    "        datapath: str,\n",
    "        load_properties: Optional[List[str]] = None,\n",
    "        load_structure: bool = True,\n",
    "        transforms: Optional[List[torch.nn.Module]] = None,\n",
    "        subset_idx: Optional[List[int]] = None,\n",
    "        property_units: Optional[Dict[str, str]] = None,\n",
    "        distance_unit: Optional[str] = None,\n",
    "    ):\n",
    "        \"\"\"\n",
    "        Args:\n",
    "            datapath: Path to ASE DB.\n",
    "            load_properties: Set of properties to be loaded and returned.\n",
    "                If None, all properties in the ASE dB will be returned.\n",
    "            load_structure: If True, load structure properties.\n",
    "            transforms: preprocessing torch.nn.Module (see schnetpack.data.transforms)\n",
    "            subset_idx: List of data indices.\n",
    "            units: property-> unit string dictionary that overwrites the native units\n",
    "                of the dataset. Units are converted automatically during loading.\n",
    "        \"\"\""
   ]
  }
 ],
 "metadata": {
  "kernelspec": {
   "display_name": "Python 3 (ipykernel)",
   "language": "python",
   "name": "python3"
  },
  "language_info": {
   "codemirror_mode": {
    "name": "ipython",
    "version": 3
   },
   "file_extension": ".py",
   "mimetype": "text/x-python",
   "name": "python",
   "nbconvert_exporter": "python",
   "pygments_lexer": "ipython3",
   "version": "3.10.0"
  }
 },
 "nbformat": 4,
 "nbformat_minor": 5
}
