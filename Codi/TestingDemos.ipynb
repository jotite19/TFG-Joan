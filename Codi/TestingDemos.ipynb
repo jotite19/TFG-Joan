{
 "cells": [
  {
   "cell_type": "markdown",
   "metadata": {
    "pycharm": {
     "name": "#%%\n"
    }
   },
   "source": [
    "## Definint funcions:"
   ]
  },
  {
   "cell_type": "code",
   "execution_count": 75,
   "metadata": {},
   "outputs": [],
   "source": [
    "def ImportData(dbPath, bSize, nTrain, nVal):\n",
    "    params = [trn.ASENeighborList(cutoff=5.),\n",
    "              trn.RemoveOffsets(QM9.U0, remove_mean=True, \n",
    "              remove_atomrefs=True),\n",
    "              trn.CastTo32()]\n",
    "    \n",
    "    qm9data = QM9(dbPath, \n",
    "        batch_size = bSize,\n",
    "        num_train = nTrain, \n",
    "        num_val = nVal,\n",
    "        transforms = params,\n",
    "        property_units={QM9.U0: 'eV'},\n",
    "        num_workers=1,\n",
    "        split_file=os.path.join(qm9tut, \"split.npz\"),\n",
    "        pin_memory=True, # set to false, when not using a GPU\n",
    "        load_properties=[QM9.U0], #only load U0 property\n",
    "    )\n",
    "    qm9data.prepare_data()\n",
    "    qm9data.setup()\n",
    "    return qm9data"
   ]
  },
  {
   "cell_type": "code",
   "execution_count": 76,
   "metadata": {
    "pycharm": {
     "name": "#%%\n"
    }
   },
   "outputs": [],
   "source": [
    "def settingModel(cutoff, n_atom_basis):\n",
    "    pairwise_distance = spk.atomistic.PairwiseDistances() # calculates pairwise distances between atoms\n",
    "    radial_basis = spk.nn.GaussianRBF(n_rbf=20, cutoff=cutoff)\n",
    "    schnet = spk.representation.SchNet(\n",
    "        n_atom_basis=n_atom_basis, n_interactions=3,\n",
    "        radial_basis=radial_basis,\n",
    "        cutoff_fn=spk.nn.CosineCutoff(cutoff)\n",
    "    )\n",
    "    pred_U0 = spk.atomistic.Atomwise(n_in=n_atom_basis, output_key=QM9.U0)\n",
    "\n",
    "    nnpot = spk.model.NeuralNetworkPotential(\n",
    "        representation=schnet,\n",
    "        input_modules=[pairwise_distance],\n",
    "        output_modules=[pred_U0],\n",
    "        postprocessors=[trn.CastTo64(), trn.AddOffsets(QM9.U0, add_mean=True, add_atomrefs=True)]\n",
    "    )\n",
    "    return nnpot"
   ]
  },
  {
   "cell_type": "code",
   "execution_count": 77,
   "metadata": {
    "pycharm": {
     "name": "#%%\n"
    }
   },
   "outputs": [],
   "source": [
    "def settingOutput():\n",
    "    output_U0 = spk.task.ModelOutput(\n",
    "        name=QM9.U0,\n",
    "        loss_fn=torch.nn.MSELoss(),\n",
    "        loss_weight=1.,\n",
    "        metrics={\n",
    "            \"MAE\": torchmetrics.MeanAbsoluteError()\n",
    "        }\n",
    "    )\n",
    "    return output_U0"
   ]
  },
  {
   "cell_type": "code",
   "execution_count": 78,
   "metadata": {
    "pycharm": {
     "name": "#%%\n"
    }
   },
   "outputs": [],
   "source": [
    "def definingTasck():\n",
    "    task = spk.task.AtomisticTask(\n",
    "        model=nnpot,\n",
    "        outputs=[output_U0],\n",
    "        optimizer_cls=torch.optim.AdamW,\n",
    "        optimizer_args={\"lr\": 1e-4}\n",
    "    )\n",
    "    return task"
   ]
  },
  {
   "cell_type": "code",
   "execution_count": 79,
   "metadata": {
    "pycharm": {
     "name": "#%%\n"
    }
   },
   "outputs": [],
   "source": [
    "def trainingModel(maxEpochs):\n",
    "    logger = pl.loggers.TensorBoardLogger(save_dir=qm9tut)\n",
    "    callbacks = [\n",
    "        spk.train.ModelCheckpoint(\n",
    "            model_path = os.path.join(qm9tut, \"best_inference_model\"),\n",
    "            save_top_k = 1,\n",
    "            monitor = \"val_loss\"\n",
    "        )\n",
    "    ]\n",
    "    trainer = pl.Trainer(\n",
    "        callbacks = callbacks,\n",
    "        logger = logger,\n",
    "        default_root_dir = qm9tut,\n",
    "        max_epochs = maxEpochs, \n",
    "    )\n",
    "    trainer.fit(task, datamodule=qm9data)"
   ]
  },
  {
   "cell_type": "markdown",
   "metadata": {},
   "source": [
    "## Creant el model:"
   ]
  },
  {
   "cell_type": "code",
   "execution_count": 80,
   "metadata": {},
   "outputs": [],
   "source": [
    "import os\n",
    "import schnetpack as spk\n",
    "from schnetpack.datasets import QM9\n",
    "import schnetpack.transform as trn\n",
    "\n",
    "import torch\n",
    "import torchmetrics\n",
    "import pytorch_lightning as pl\n",
    "\n",
    "qm9tut = './qm9tut'\n",
    "if not os.path.exists('qm9tut'):\n",
    "    os.makedirs(qm9tut)"
   ]
  },
  {
   "cell_type": "code",
   "execution_count": 81,
   "metadata": {},
   "outputs": [
    {
     "name": "stderr",
     "output_type": "stream",
     "text": [
      "100%|███████████████████████████████████████████| 10/10 [00:00<00:00, 10.57it/s]\n"
     ]
    }
   ],
   "source": [
    "# Import data from the QM9 dataset: \n",
    "dbPath = './qm9tut/qm9.db'\n",
    "qm9data = ImportData(dbPath,100,1000,1000) "
   ]
  },
  {
   "cell_type": "code",
   "execution_count": 82,
   "metadata": {},
   "outputs": [],
   "source": [
    "# Settup model: \n",
    "nnpot = settingModel(5.0,30)\n",
    "\n",
    "# Settup output:\n",
    "output_U0 = settingOutput()\n",
    "\n",
    "# Define task:\n",
    "task = definingTasck()"
   ]
  },
  {
   "cell_type": "code",
   "execution_count": 83,
   "metadata": {},
   "outputs": [
    {
     "name": "stderr",
     "output_type": "stream",
     "text": [
      "GPU available: False, used: False\n",
      "TPU available: False, using: 0 TPU cores\n",
      "IPU available: False, using: 0 IPUs\n",
      "HPU available: False, using: 0 HPUs\n",
      "\n",
      "  | Name    | Type                   | Params\n",
      "---------------------------------------------------\n",
      "0 | model   | NeuralNetworkPotential | 16.4 K\n",
      "1 | outputs | ModuleList             | 0     \n",
      "---------------------------------------------------\n",
      "16.4 K    Trainable params\n",
      "0         Non-trainable params\n",
      "16.4 K    Total params\n",
      "0.066     Total estimated model params size (MB)\n"
     ]
    },
    {
     "data": {
      "application/vnd.jupyter.widget-view+json": {
       "model_id": "",
       "version_major": 2,
       "version_minor": 0
      },
      "text/plain": [
       "Sanity Checking: 0it [00:00, ?it/s]"
      ]
     },
     "metadata": {},
     "output_type": "display_data"
    },
    {
     "data": {
      "application/vnd.jupyter.widget-view+json": {
       "model_id": "8ad07802bdca4cf49dd2c26f747bd13f",
       "version_major": 2,
       "version_minor": 0
      },
      "text/plain": [
       "Training: 0it [00:00, ?it/s]"
      ]
     },
     "metadata": {},
     "output_type": "display_data"
    },
    {
     "data": {
      "application/vnd.jupyter.widget-view+json": {
       "model_id": "",
       "version_major": 2,
       "version_minor": 0
      },
      "text/plain": [
       "Validation: 0it [00:00, ?it/s]"
      ]
     },
     "metadata": {},
     "output_type": "display_data"
    },
    {
     "data": {
      "application/vnd.jupyter.widget-view+json": {
       "model_id": "",
       "version_major": 2,
       "version_minor": 0
      },
      "text/plain": [
       "Validation: 0it [00:00, ?it/s]"
      ]
     },
     "metadata": {},
     "output_type": "display_data"
    },
    {
     "data": {
      "application/vnd.jupyter.widget-view+json": {
       "model_id": "",
       "version_major": 2,
       "version_minor": 0
      },
      "text/plain": [
       "Validation: 0it [00:00, ?it/s]"
      ]
     },
     "metadata": {},
     "output_type": "display_data"
    },
    {
     "data": {
      "application/vnd.jupyter.widget-view+json": {
       "model_id": "",
       "version_major": 2,
       "version_minor": 0
      },
      "text/plain": [
       "Validation: 0it [00:00, ?it/s]"
      ]
     },
     "metadata": {},
     "output_type": "display_data"
    },
    {
     "name": "stderr",
     "output_type": "stream",
     "text": [
      "`Trainer.fit` stopped: `max_epochs=4` reached.\n"
     ]
    }
   ],
   "source": [
    "# Training model:\n",
    "trainingModel(4)"
   ]
  },
  {
   "cell_type": "markdown",
   "metadata": {
    "pycharm": {
     "name": "#%% md\n"
    }
   },
   "source": [
    "## Prediccio: "
   ]
  },
  {
   "cell_type": "code",
   "execution_count": 84,
   "metadata": {
    "pycharm": {
     "name": "#%%\n"
    }
   },
   "outputs": [],
   "source": [
    "import torch\n",
    "import numpy as np\n",
    "from ase import Atoms\n",
    "\n",
    "best_model = torch.load(os.path.join(qm9tut, 'best_inference_model'))"
   ]
  },
  {
   "cell_type": "markdown",
   "metadata": {
    "pycharm": {
     "name": "#%% md\n"
    }
   },
   "source": [
    "We can use the test dataloader from the QM( data to obtain a batch of molecules and apply the model:"
   ]
  },
  {
   "cell_type": "code",
   "execution_count": 85,
   "metadata": {
    "pycharm": {
     "name": "#%%\n"
    }
   },
   "outputs": [
    {
     "name": "stdout",
     "output_type": "stream",
     "text": [
      "Result dictionary: {'energy_U0': tensor([-10970.2609, -11372.6771, -10326.9094, -11373.6629, -10362.4389,\n",
      "        -11474.5606, -11982.3176, -10868.4537, -11911.4700, -11545.2972,\n",
      "        -11877.3117, -10568.0880, -12347.7429, -10531.7071,  -9407.4588,\n",
      "        -11372.3639, -10533.3572,  -9924.9355, -11373.9016, -10567.0577,\n",
      "        -12921.8328,  -9465.2620, -11948.0569, -10935.9655, -10969.8692,\n",
      "        -10799.5144, -10337.8862, -10498.6623, -11577.4793,  -9901.7211,\n",
      "        -10798.7374, -12485.5719, -12211.5524,  -9558.0435, -11910.8407,\n",
      "        -11981.3731, -11947.0661, -12557.8185, -10833.4676, -12382.7335,\n",
      "        -11372.0051,  -9900.8664, -13760.6083, -11476.1269, -12922.3523,\n",
      "        -10842.0200, -10534.2791, -10533.5549, -11945.9532, -12348.1010,\n",
      "        -10303.1538, -10567.5817, -12885.5084, -10971.1998,  -9534.0287,\n",
      "        -12922.5249, -10968.9931,  -9901.1323, -10534.1485, -11510.1859,\n",
      "        -10568.6562,  -9523.9487,  -8924.6351, -10532.4927, -11200.4019,\n",
      "        -11510.1681, -10531.8474, -12450.7402, -10568.7028, -11852.2661,\n",
      "        -10969.7819, -13358.3843, -11380.4068, -10029.2874, -11980.7042,\n",
      "        -11372.6714,  -9865.4415, -12016.1056, -10395.1088, -13531.7676,\n",
      "        -10533.6572, -12785.6322, -10327.0258, -10902.6241, -11945.7889,\n",
      "        -11270.1389, -10969.4058, -12313.0593,  -9970.3214, -10568.1450,\n",
      "        -12485.6725, -12485.2888, -10567.1190, -11808.1997, -11510.3560,\n",
      "        -15461.6086, -11268.2426, -12485.6887, -11810.2290, -11579.9766],\n",
      "       dtype=torch.float64, grad_fn=<AddBackward0>)}\n"
     ]
    }
   ],
   "source": [
    "for batch in qm9data.test_dataloader():\n",
    "    result = best_model(batch)\n",
    "    print(\"Result dictionary:\", result)\n",
    "    break"
   ]
  },
  {
   "cell_type": "markdown",
   "metadata": {
    "pycharm": {
     "name": "#%% md\n"
    }
   },
   "source": [
    "If your data is not already in SchNetPack format, a convenient way is to use ASE atoms with the\n",
    "provided `AtomsConverter`:"
   ]
  },
  {
   "cell_type": "code",
   "execution_count": 86,
   "metadata": {
    "pycharm": {
     "name": "#%%\n"
    }
   },
   "outputs": [],
   "source": [
    "converter = spk.interfaces.AtomsConverter(neighbor_list=trn.ASENeighborList(cutoff=5.), dtype=torch.float32)"
   ]
  },
  {
   "cell_type": "code",
   "execution_count": 87,
   "metadata": {
    "pycharm": {
     "name": "#%%\n"
    }
   },
   "outputs": [],
   "source": [
    "numbers = np.array([6, 1, 1, 1, 1])\n",
    "positions = np.array([[-0.0126981359, 1.0858041578, 0.0080009958],\n",
    "                      [0.002150416, -0.0060313176, 0.0019761204],\n",
    "                      [1.0117308433, 1.4637511618, 0.0002765748],\n",
    "                      [-0.540815069, 1.4475266138, -0.8766437152],\n",
    "                      [-0.5238136345, 1.4379326443, 0.9063972942]])\n",
    "atoms = Atoms(numbers=numbers, positions=positions)"
   ]
  },
  {
   "cell_type": "code",
   "execution_count": 88,
   "metadata": {
    "pycharm": {
     "name": "#%%\n"
    }
   },
   "outputs": [
    {
     "name": "stdout",
     "output_type": "stream",
     "text": [
      "Keys: ['_n_atoms', '_atomic_numbers', '_positions', '_cell', '_pbc', '_idx', '_idx_i_local', '_idx_j_local', '_offsets', '_idx_m', '_idx_i', '_idx_j']\n",
      "Prediction: tensor([-1106.2898], dtype=torch.float64, grad_fn=<AddBackward0>)\n"
     ]
    }
   ],
   "source": [
    "inputs = converter(atoms)\n",
    "\n",
    "print('Keys:', list(inputs.keys()))\n",
    "\n",
    "pred = best_model(inputs)\n",
    "\n",
    "print('Prediction:', pred[QM9.U0])"
   ]
  },
  {
   "cell_type": "markdown",
   "metadata": {
    "pycharm": {
     "name": "#%% md\n"
    }
   },
   "source": [
    "Alternatively, one can use the `SpkCalculator` as an interface to ASE. The calculator requires the path to a trained model and a neighborlist as input. In addition, the names and units of properties used in the model (e.g. the energy) should be provided. Precision and device can be set via the `dtype` and `device` keywords:"
   ]
  },
  {
   "cell_type": "code",
   "execution_count": 89,
   "metadata": {
    "pycharm": {
     "name": "#%%\n"
    }
   },
   "outputs": [
    {
     "name": "stderr",
     "output_type": "stream",
     "text": [
      "INFO:schnetpack.interfaces.ase_interface:Loading model from ./qm9tut/best_inference_model\n"
     ]
    },
    {
     "name": "stdout",
     "output_type": "stream",
     "text": [
      "Prediction: -1106.2898198962212\n"
     ]
    }
   ],
   "source": [
    "calculator = spk.interfaces.SpkCalculator(\n",
    "    model_file=os.path.join(qm9tut, \"best_inference_model\"), # path to model\n",
    "    neighbor_list=trn.ASENeighborList(cutoff=5.), # neighbor list\n",
    "    energy_key=QM9.U0, # name of energy property in model\n",
    "    energy_unit=\"eV\", # units of energy property\n",
    "    device=\"cpu\", # device for computation\n",
    ")\n",
    "atoms.set_calculator(calculator)\n",
    "print('Prediction:', atoms.get_total_energy())"
   ]
  },
  {
   "cell_type": "markdown",
   "metadata": {
    "pycharm": {
     "name": "#%% md\n"
    }
   },
   "source": [
    "The calculator automatically converts the prediction of the given unit to internal ASE units, which is `eV`\n",
    "for the energy.\n",
    "Using the calculator interface makes more sense if you have trained SchNet for a potential energy surface.\n",
    "In the next tutorials, we will show how to learn potential energy surfaces and forces field as well as performing\n",
    "molecular dynamics simulations with SchNetPack."
   ]
  },
  {
   "cell_type": "code",
   "execution_count": null,
   "metadata": {},
   "outputs": [],
   "source": []
  }
 ],
 "metadata": {
  "kernelspec": {
   "display_name": "Python 3 (ipykernel)",
   "language": "python",
   "name": "python3"
  },
  "language_info": {
   "codemirror_mode": {
    "name": "ipython",
    "version": 3
   },
   "file_extension": ".py",
   "mimetype": "text/x-python",
   "name": "python",
   "nbconvert_exporter": "python",
   "pygments_lexer": "ipython3",
   "version": "3.10.6"
  },
  "nbsphinx": {
   "execute": "never"
  }
 },
 "nbformat": 4,
 "nbformat_minor": 2
}
